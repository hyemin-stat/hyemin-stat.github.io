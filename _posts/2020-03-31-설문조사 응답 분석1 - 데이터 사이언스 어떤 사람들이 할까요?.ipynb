{
 "cells": [
  {
   "cell_type": "code",
   "execution_count": 14,
   "metadata": {},
   "outputs": [],
   "source": [
    "# Import the standard Python Scientific Libraries\n",
    "import pandas as pd\n",
    "import numpy as np\n",
    "from scipy import stats #싸이파이\n",
    "import matplotlib.pyplot as plt\n",
    "%matplotlib inline\n",
    "import seaborn as sns\n",
    "import missingno as msno\n",
    "\n",
    "# Suppress Deprecation and Incorrect Usage Warnings \n",
    "import warnings\n",
    "warnings.filterwarnings('ignore')\n",
    "\n",
    "data_load = '/home/hyemin/문서/kaggle_survey/'"
   ]
  },
  {
   "cell_type": "code",
   "execution_count": 15,
   "metadata": {},
   "outputs": [
    {
     "data": {
      "text/plain": [
       "(290, 3)"
      ]
     },
     "execution_count": 15,
     "metadata": {},
     "output_type": "execute_result"
    }
   ],
   "source": [
    "# question : 질문이 적혀있음\n",
    "question = pd.read_csv(data_load+'schema.csv')\n",
    "question.shape"
   ]
  },
  {
   "cell_type": "code",
   "execution_count": 4,
   "metadata": {},
   "outputs": [
    {
     "data": {
      "text/html": [
       "<div>\n",
       "<style scoped>\n",
       "    .dataframe tbody tr th:only-of-type {\n",
       "        vertical-align: middle;\n",
       "    }\n",
       "\n",
       "    .dataframe tbody tr th {\n",
       "        vertical-align: top;\n",
       "    }\n",
       "\n",
       "    .dataframe thead th {\n",
       "        text-align: right;\n",
       "    }\n",
       "</style>\n",
       "<table border=\"1\" class=\"dataframe\">\n",
       "  <thead>\n",
       "    <tr style=\"text-align: right;\">\n",
       "      <th></th>\n",
       "      <th>Column</th>\n",
       "      <th>Question</th>\n",
       "      <th>Asked</th>\n",
       "    </tr>\n",
       "  </thead>\n",
       "  <tbody>\n",
       "    <tr>\n",
       "      <td>0</td>\n",
       "      <td>GenderSelect</td>\n",
       "      <td>Select your gender identity. - Selected Choice</td>\n",
       "      <td>All</td>\n",
       "    </tr>\n",
       "    <tr>\n",
       "      <td>1</td>\n",
       "      <td>GenderFreeForm</td>\n",
       "      <td>Select your gender identity. - A different ide...</td>\n",
       "      <td>All</td>\n",
       "    </tr>\n",
       "    <tr>\n",
       "      <td>2</td>\n",
       "      <td>Country</td>\n",
       "      <td>Select the country you currently live in.</td>\n",
       "      <td>All</td>\n",
       "    </tr>\n",
       "    <tr>\n",
       "      <td>3</td>\n",
       "      <td>Age</td>\n",
       "      <td>What's your age?</td>\n",
       "      <td>All</td>\n",
       "    </tr>\n",
       "    <tr>\n",
       "      <td>4</td>\n",
       "      <td>EmploymentStatus</td>\n",
       "      <td>What's your current employment status?</td>\n",
       "      <td>All</td>\n",
       "    </tr>\n",
       "  </tbody>\n",
       "</table>\n",
       "</div>"
      ],
      "text/plain": [
       "             Column                                           Question Asked\n",
       "0      GenderSelect     Select your gender identity. - Selected Choice   All\n",
       "1    GenderFreeForm  Select your gender identity. - A different ide...   All\n",
       "2           Country          Select the country you currently live in.   All\n",
       "3               Age                                   What's your age?   All\n",
       "4  EmploymentStatus             What's your current employment status?   All"
      ]
     },
     "execution_count": 4,
     "metadata": {},
     "output_type": "execute_result"
    }
   ],
   "source": [
    "question.head()"
   ]
  },
  {
   "cell_type": "code",
   "execution_count": 17,
   "metadata": {},
   "outputs": [
    {
     "data": {
      "text/plain": [
       "(16716, 228)"
      ]
     },
     "execution_count": 17,
     "metadata": {},
     "output_type": "execute_result"
    }
   ],
   "source": [
    "# 판다스로 선다형 객관식 문제에 대한 응답을 가져 옴\n",
    "# low_memory=False file 형식이 다르다고 오류가 떠서 이렇게 함.\n",
    "mcq = pd.read_csv(data_load+'multipleChoiceResponses.csv', encoding=\"ISO-8859-1\", low_memory=False)\n",
    "mcq.shape #16716명, 228개항목"
   ]
  },
  {
   "cell_type": "code",
   "execution_count": 8,
   "metadata": {},
   "outputs": [
    {
     "data": {
      "text/plain": [
       "Index(['GenderSelect', 'Country', 'Age', 'EmploymentStatus', 'StudentStatus',\n",
       "       'LearningDataScience', 'CodeWriter', 'CareerSwitcher',\n",
       "       'CurrentJobTitleSelect', 'TitleFit',\n",
       "       ...\n",
       "       'JobFactorExperienceLevel', 'JobFactorDepartment', 'JobFactorTitle',\n",
       "       'JobFactorCompanyFunding', 'JobFactorImpact', 'JobFactorRemote',\n",
       "       'JobFactorIndustry', 'JobFactorLeaderReputation', 'JobFactorDiversity',\n",
       "       'JobFactorPublishingOpportunity'],\n",
       "      dtype='object', length=228)"
      ]
     },
     "execution_count": 8,
     "metadata": {},
     "output_type": "execute_result"
    }
   ],
   "source": [
    "mcq.columns"
   ]
  },
  {
   "cell_type": "code",
   "execution_count": 10,
   "metadata": {},
   "outputs": [
    {
     "data": {
      "text/html": [
       "<div>\n",
       "<style scoped>\n",
       "    .dataframe tbody tr th:only-of-type {\n",
       "        vertical-align: middle;\n",
       "    }\n",
       "\n",
       "    .dataframe tbody tr th {\n",
       "        vertical-align: top;\n",
       "    }\n",
       "\n",
       "    .dataframe thead th {\n",
       "        text-align: right;\n",
       "    }\n",
       "</style>\n",
       "<table border=\"1\" class=\"dataframe\">\n",
       "  <thead>\n",
       "    <tr style=\"text-align: right;\">\n",
       "      <th></th>\n",
       "      <th>GenderSelect</th>\n",
       "      <th>Country</th>\n",
       "      <th>Age</th>\n",
       "      <th>EmploymentStatus</th>\n",
       "      <th>StudentStatus</th>\n",
       "      <th>LearningDataScience</th>\n",
       "      <th>CodeWriter</th>\n",
       "      <th>CareerSwitcher</th>\n",
       "      <th>CurrentJobTitleSelect</th>\n",
       "      <th>TitleFit</th>\n",
       "      <th>...</th>\n",
       "      <th>JobFactorExperienceLevel</th>\n",
       "      <th>JobFactorDepartment</th>\n",
       "      <th>JobFactorTitle</th>\n",
       "      <th>JobFactorCompanyFunding</th>\n",
       "      <th>JobFactorImpact</th>\n",
       "      <th>JobFactorRemote</th>\n",
       "      <th>JobFactorIndustry</th>\n",
       "      <th>JobFactorLeaderReputation</th>\n",
       "      <th>JobFactorDiversity</th>\n",
       "      <th>JobFactorPublishingOpportunity</th>\n",
       "    </tr>\n",
       "  </thead>\n",
       "  <tbody>\n",
       "    <tr>\n",
       "      <td>0</td>\n",
       "      <td>Non-binary, genderqueer, or gender non-conforming</td>\n",
       "      <td>NaN</td>\n",
       "      <td>NaN</td>\n",
       "      <td>Employed full-time</td>\n",
       "      <td>NaN</td>\n",
       "      <td>NaN</td>\n",
       "      <td>Yes</td>\n",
       "      <td>NaN</td>\n",
       "      <td>DBA/Database Engineer</td>\n",
       "      <td>Fine</td>\n",
       "      <td>...</td>\n",
       "      <td>NaN</td>\n",
       "      <td>NaN</td>\n",
       "      <td>NaN</td>\n",
       "      <td>NaN</td>\n",
       "      <td>NaN</td>\n",
       "      <td>NaN</td>\n",
       "      <td>NaN</td>\n",
       "      <td>NaN</td>\n",
       "      <td>NaN</td>\n",
       "      <td>NaN</td>\n",
       "    </tr>\n",
       "    <tr>\n",
       "      <td>1</td>\n",
       "      <td>Female</td>\n",
       "      <td>United States</td>\n",
       "      <td>30.0</td>\n",
       "      <td>Not employed, but looking for work</td>\n",
       "      <td>NaN</td>\n",
       "      <td>NaN</td>\n",
       "      <td>NaN</td>\n",
       "      <td>NaN</td>\n",
       "      <td>NaN</td>\n",
       "      <td>NaN</td>\n",
       "      <td>...</td>\n",
       "      <td>NaN</td>\n",
       "      <td>NaN</td>\n",
       "      <td>NaN</td>\n",
       "      <td>NaN</td>\n",
       "      <td>NaN</td>\n",
       "      <td>NaN</td>\n",
       "      <td>NaN</td>\n",
       "      <td>Somewhat important</td>\n",
       "      <td>NaN</td>\n",
       "      <td>NaN</td>\n",
       "    </tr>\n",
       "    <tr>\n",
       "      <td>2</td>\n",
       "      <td>Male</td>\n",
       "      <td>Canada</td>\n",
       "      <td>28.0</td>\n",
       "      <td>Not employed, but looking for work</td>\n",
       "      <td>NaN</td>\n",
       "      <td>NaN</td>\n",
       "      <td>NaN</td>\n",
       "      <td>NaN</td>\n",
       "      <td>NaN</td>\n",
       "      <td>NaN</td>\n",
       "      <td>...</td>\n",
       "      <td>Very Important</td>\n",
       "      <td>Very Important</td>\n",
       "      <td>Very Important</td>\n",
       "      <td>Very Important</td>\n",
       "      <td>Very Important</td>\n",
       "      <td>Very Important</td>\n",
       "      <td>Very Important</td>\n",
       "      <td>Very Important</td>\n",
       "      <td>Very Important</td>\n",
       "      <td>Very Important</td>\n",
       "    </tr>\n",
       "    <tr>\n",
       "      <td>3</td>\n",
       "      <td>Male</td>\n",
       "      <td>United States</td>\n",
       "      <td>56.0</td>\n",
       "      <td>Independent contractor, freelancer, or self-em...</td>\n",
       "      <td>NaN</td>\n",
       "      <td>NaN</td>\n",
       "      <td>Yes</td>\n",
       "      <td>NaN</td>\n",
       "      <td>Operations Research Practitioner</td>\n",
       "      <td>Poorly</td>\n",
       "      <td>...</td>\n",
       "      <td>NaN</td>\n",
       "      <td>NaN</td>\n",
       "      <td>NaN</td>\n",
       "      <td>NaN</td>\n",
       "      <td>NaN</td>\n",
       "      <td>NaN</td>\n",
       "      <td>NaN</td>\n",
       "      <td>NaN</td>\n",
       "      <td>NaN</td>\n",
       "      <td>NaN</td>\n",
       "    </tr>\n",
       "    <tr>\n",
       "      <td>4</td>\n",
       "      <td>Male</td>\n",
       "      <td>Taiwan</td>\n",
       "      <td>38.0</td>\n",
       "      <td>Employed full-time</td>\n",
       "      <td>NaN</td>\n",
       "      <td>NaN</td>\n",
       "      <td>Yes</td>\n",
       "      <td>NaN</td>\n",
       "      <td>Computer Scientist</td>\n",
       "      <td>Fine</td>\n",
       "      <td>...</td>\n",
       "      <td>NaN</td>\n",
       "      <td>NaN</td>\n",
       "      <td>NaN</td>\n",
       "      <td>NaN</td>\n",
       "      <td>NaN</td>\n",
       "      <td>NaN</td>\n",
       "      <td>NaN</td>\n",
       "      <td>NaN</td>\n",
       "      <td>NaN</td>\n",
       "      <td>NaN</td>\n",
       "    </tr>\n",
       "  </tbody>\n",
       "</table>\n",
       "<p>5 rows × 228 columns</p>\n",
       "</div>"
      ],
      "text/plain": [
       "                                        GenderSelect        Country   Age  \\\n",
       "0  Non-binary, genderqueer, or gender non-conforming            NaN   NaN   \n",
       "1                                             Female  United States  30.0   \n",
       "2                                               Male         Canada  28.0   \n",
       "3                                               Male  United States  56.0   \n",
       "4                                               Male         Taiwan  38.0   \n",
       "\n",
       "                                    EmploymentStatus StudentStatus  \\\n",
       "0                                 Employed full-time           NaN   \n",
       "1                 Not employed, but looking for work           NaN   \n",
       "2                 Not employed, but looking for work           NaN   \n",
       "3  Independent contractor, freelancer, or self-em...           NaN   \n",
       "4                                 Employed full-time           NaN   \n",
       "\n",
       "  LearningDataScience CodeWriter CareerSwitcher  \\\n",
       "0                 NaN        Yes            NaN   \n",
       "1                 NaN        NaN            NaN   \n",
       "2                 NaN        NaN            NaN   \n",
       "3                 NaN        Yes            NaN   \n",
       "4                 NaN        Yes            NaN   \n",
       "\n",
       "              CurrentJobTitleSelect TitleFit  ... JobFactorExperienceLevel  \\\n",
       "0             DBA/Database Engineer     Fine  ...                      NaN   \n",
       "1                               NaN      NaN  ...                      NaN   \n",
       "2                               NaN      NaN  ...           Very Important   \n",
       "3  Operations Research Practitioner   Poorly  ...                      NaN   \n",
       "4                Computer Scientist     Fine  ...                      NaN   \n",
       "\n",
       "  JobFactorDepartment  JobFactorTitle JobFactorCompanyFunding JobFactorImpact  \\\n",
       "0                 NaN             NaN                     NaN             NaN   \n",
       "1                 NaN             NaN                     NaN             NaN   \n",
       "2      Very Important  Very Important          Very Important  Very Important   \n",
       "3                 NaN             NaN                     NaN             NaN   \n",
       "4                 NaN             NaN                     NaN             NaN   \n",
       "\n",
       "  JobFactorRemote JobFactorIndustry JobFactorLeaderReputation  \\\n",
       "0             NaN               NaN                       NaN   \n",
       "1             NaN               NaN        Somewhat important   \n",
       "2  Very Important    Very Important            Very Important   \n",
       "3             NaN               NaN                       NaN   \n",
       "4             NaN               NaN                       NaN   \n",
       "\n",
       "  JobFactorDiversity JobFactorPublishingOpportunity  \n",
       "0                NaN                            NaN  \n",
       "1                NaN                            NaN  \n",
       "2     Very Important                 Very Important  \n",
       "3                NaN                            NaN  \n",
       "4                NaN                            NaN  \n",
       "\n",
       "[5 rows x 228 columns]"
      ]
     },
     "execution_count": 10,
     "metadata": {},
     "output_type": "execute_result"
    }
   ],
   "source": [
    "mcq.head(5)"
   ]
  },
  {
   "cell_type": "code",
   "execution_count": 33,
   "metadata": {
    "scrolled": true
   },
   "outputs": [
    {
     "data": {
      "text/plain": [
       "<matplotlib.axes._subplots.AxesSubplot at 0x7f221c8f7210>"
      ]
     },
     "execution_count": 33,
     "metadata": {},
     "output_type": "execute_result"
    },
    {
     "data": {
      "image/png": "[encoded data removed]",
      "text/plain": [
       "<Figure size 864x360 with 2 Axes>"
      ]
     },
     "metadata": {
      "needs_background": "light"
     },
     "output_type": "display_data"
    }
   ],
   "source": [
    "# missingno는 NaN 데이터들에 대해 시각화를 해준다.\n",
    "# NaN 데이터의 컬럼이 많아 아래 그래프만으로는 내용을 파악하기 어렵다.\n",
    "# 하지만 결측치를 처리 할 때 어떤데이터들을 모아서 결측치를 대체할 지 고민하는데 도움이 됨\n",
    "import missingno as msno\n",
    "msno.matrix(mcq, figsize=(12,5))"
   ]
  },
  {
   "cell_type": "markdown",
   "metadata": {},
   "source": [
    "# 설문통계"
   ]
  },
  {
   "cell_type": "code",
   "execution_count": 30,
   "metadata": {},
   "outputs": [
    {
     "data": {
      "text/plain": [
       "<matplotlib.axes._subplots.AxesSubplot at 0x7f2218cb2850>"
      ]
     },
     "execution_count": 30,
     "metadata": {},
     "output_type": "execute_result"
    },
    {
     "data": {
      "image/png": "[encoded data removed]",
      "text/plain": [
       "<Figure size 432x288 with 1 Axes>"
      ]
     },
     "metadata": {
      "needs_background": "light"
     },
     "output_type": "display_data"
    }
   ],
   "source": [
    "# 성별data:image/png;base64,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\n",
    "sns.countplot(y='GenderSelect', data=mcq)"
   ]
  },
  {
   "cell_type": "code",
   "execution_count": 25,
   "metadata": {},
   "outputs": [
    {
     "data": {
      "text/html": [
       "<div>\n",
       "<style scoped>\n",
       "    .dataframe tbody tr th:only-of-type {\n",
       "        vertical-align: middle;\n",
       "    }\n",
       "\n",
       "    .dataframe tbody tr th {\n",
       "        vertical-align: top;\n",
       "    }\n",
       "\n",
       "    .dataframe thead th {\n",
       "        text-align: right;\n",
       "    }\n",
       "</style>\n",
       "<table border=\"1\" class=\"dataframe\">\n",
       "  <thead>\n",
       "    <tr style=\"text-align: right;\">\n",
       "      <th></th>\n",
       "      <th>응답 수</th>\n",
       "      <th>국가</th>\n",
       "    </tr>\n",
       "  </thead>\n",
       "  <tbody>\n",
       "    <tr>\n",
       "      <td>0</td>\n",
       "      <td>4197</td>\n",
       "      <td>United States</td>\n",
       "    </tr>\n",
       "    <tr>\n",
       "      <td>1</td>\n",
       "      <td>2704</td>\n",
       "      <td>India</td>\n",
       "    </tr>\n",
       "    <tr>\n",
       "      <td>2</td>\n",
       "      <td>1023</td>\n",
       "      <td>Other</td>\n",
       "    </tr>\n",
       "    <tr>\n",
       "      <td>3</td>\n",
       "      <td>578</td>\n",
       "      <td>Russia</td>\n",
       "    </tr>\n",
       "    <tr>\n",
       "      <td>4</td>\n",
       "      <td>535</td>\n",
       "      <td>United Kingdom</td>\n",
       "    </tr>\n",
       "    <tr>\n",
       "      <td>5</td>\n",
       "      <td>471</td>\n",
       "      <td>People 's Republic of China</td>\n",
       "    </tr>\n",
       "    <tr>\n",
       "      <td>6</td>\n",
       "      <td>465</td>\n",
       "      <td>Brazil</td>\n",
       "    </tr>\n",
       "    <tr>\n",
       "      <td>7</td>\n",
       "      <td>460</td>\n",
       "      <td>Germany</td>\n",
       "    </tr>\n",
       "    <tr>\n",
       "      <td>8</td>\n",
       "      <td>442</td>\n",
       "      <td>France</td>\n",
       "    </tr>\n",
       "    <tr>\n",
       "      <td>9</td>\n",
       "      <td>440</td>\n",
       "      <td>Canada</td>\n",
       "    </tr>\n",
       "    <tr>\n",
       "      <td>10</td>\n",
       "      <td>421</td>\n",
       "      <td>Australia</td>\n",
       "    </tr>\n",
       "    <tr>\n",
       "      <td>11</td>\n",
       "      <td>320</td>\n",
       "      <td>Spain</td>\n",
       "    </tr>\n",
       "    <tr>\n",
       "      <td>12</td>\n",
       "      <td>277</td>\n",
       "      <td>Japan</td>\n",
       "    </tr>\n",
       "    <tr>\n",
       "      <td>13</td>\n",
       "      <td>254</td>\n",
       "      <td>Taiwan</td>\n",
       "    </tr>\n",
       "    <tr>\n",
       "      <td>14</td>\n",
       "      <td>238</td>\n",
       "      <td>Italy</td>\n",
       "    </tr>\n",
       "    <tr>\n",
       "      <td>15</td>\n",
       "      <td>205</td>\n",
       "      <td>Netherlands</td>\n",
       "    </tr>\n",
       "    <tr>\n",
       "      <td>16</td>\n",
       "      <td>196</td>\n",
       "      <td>Ukraine</td>\n",
       "    </tr>\n",
       "    <tr>\n",
       "      <td>17</td>\n",
       "      <td>194</td>\n",
       "      <td>South Korea</td>\n",
       "    </tr>\n",
       "    <tr>\n",
       "      <td>18</td>\n",
       "      <td>184</td>\n",
       "      <td>Poland</td>\n",
       "    </tr>\n",
       "    <tr>\n",
       "      <td>19</td>\n",
       "      <td>184</td>\n",
       "      <td>Singapore</td>\n",
       "    </tr>\n",
       "  </tbody>\n",
       "</table>\n",
       "</div>"
      ],
      "text/plain": [
       "    응답 수                           국가\n",
       "0   4197                United States\n",
       "1   2704                        India\n",
       "2   1023                        Other\n",
       "3    578                       Russia\n",
       "4    535               United Kingdom\n",
       "5    471  People 's Republic of China\n",
       "6    465                       Brazil\n",
       "7    460                      Germany\n",
       "8    442                       France\n",
       "9    440                       Canada\n",
       "10   421                    Australia\n",
       "11   320                        Spain\n",
       "12   277                        Japan\n",
       "13   254                       Taiwan\n",
       "14   238                        Italy\n",
       "15   205                  Netherlands\n",
       "16   196                      Ukraine\n",
       "17   194                  South Korea\n",
       "18   184                       Poland\n",
       "19   184                    Singapore"
      ]
     },
     "execution_count": 25,
     "metadata": {},
     "output_type": "execute_result"
    }
   ],
   "source": [
    "# 국가별 응답수\n",
    "con_df = pd.DataFrame(mcq['Country'].value_counts())\n",
    "\n",
    "# 'country' 컬럼을 인덱스로 지정해 주고\n",
    "con_df['국가'] = con_df.index\n",
    "# 컬럼의 순서대로 응답 수, 국가로 컬럼명을 지정해 줌\n",
    "con_df.columns = ['응답 수', '국가']\n",
    "# index 컬럼을 삭제하고 순위를 알기위해 reset_index()를 해준다.\n",
    "# 우리 나라는 18위이고 전체 52개국에서 참여했지만 20위까지만 본다. \n",
    "con_df = con_df.reset_index().drop('index', axis=1)\n",
    "con_df.head(20)"
   ]
  },
  {
   "cell_type": "code",
   "execution_count": 26,
   "metadata": {},
   "outputs": [
    {
     "data": {
      "text/plain": [
       "count    16385.000000\n",
       "mean        32.372841\n",
       "std         10.473487\n",
       "min          0.000000\n",
       "25%         25.000000\n",
       "50%         30.000000\n",
       "75%         37.000000\n",
       "max        100.000000\n",
       "Name: Age, dtype: float64"
      ]
     },
     "execution_count": 26,
     "metadata": {},
     "output_type": "execute_result"
    }
   ],
   "source": [
    "# 연령에 대한 정보\n",
    "mcq['Age'].describe()"
   ]
  },
  {
   "cell_type": "code",
   "execution_count": 11,
   "metadata": {},
   "outputs": [
    {
     "data": {
      "text/plain": [
       "<matplotlib.axes._subplots.AxesSubplot at 0x7f2264813790>"
      ]
     },
     "execution_count": 11,
     "metadata": {},
     "output_type": "execute_result"
    },
    {
     "data": {
      "image/png": "[encoded data removed]",
      "text/plain": [
       "<Figure size 432x288 with 1 Axes>"
      ]
     },
     "metadata": {
      "needs_background": "light"
     },
     "output_type": "display_data"
    }
   ],
   "source": [
    "sns.distplot(mcq[mcq['Age'] > 0]['Age'])\n",
    "#응답자의 대부분이 어리며, 20대부터 급격히 늘어나며, 30대가 가장 많다. 평균 나이는 32세다."
   ]
  },
  {
   "cell_type": "markdown",
   "metadata": {},
   "source": [
    "# 학력"
   ]
  },
  {
   "cell_type": "code",
   "execution_count": 27,
   "metadata": {},
   "outputs": [
    {
     "data": {
      "text/plain": [
       "<matplotlib.axes._subplots.AxesSubplot at 0x7f7e43dc6410>"
      ]
     },
     "execution_count": 27,
     "metadata": {},
     "output_type": "execute_result"
    },
    {
     "data": {
      "image/png": "[encoded data removed]",
      "text/plain": [
       "<Figure size 432x288 with 1 Axes>"
      ]
     },
     "metadata": {
      "needs_background": "light"
     },
     "output_type": "display_data"
    }
   ],
   "source": [
    "sns.countplot(y='FormalEducation', data=mcq)"
   ]
  },
  {
   "cell_type": "code",
   "execution_count": 28,
   "metadata": {},
   "outputs": [
    {
     "data": {
      "text/html": [
       "<div>\n",
       "<style scoped>\n",
       "    .dataframe tbody tr th:only-of-type {\n",
       "        vertical-align: middle;\n",
       "    }\n",
       "\n",
       "    .dataframe tbody tr th {\n",
       "        vertical-align: top;\n",
       "    }\n",
       "\n",
       "    .dataframe thead th {\n",
       "        text-align: right;\n",
       "    }\n",
       "</style>\n",
       "<table border=\"1\" class=\"dataframe\">\n",
       "  <thead>\n",
       "    <tr style=\"text-align: right;\">\n",
       "      <th></th>\n",
       "      <th>MajorSelect</th>\n",
       "    </tr>\n",
       "  </thead>\n",
       "  <tbody>\n",
       "    <tr>\n",
       "      <td>Computer Science</td>\n",
       "      <td>4397</td>\n",
       "    </tr>\n",
       "    <tr>\n",
       "      <td>Mathematics or statistics</td>\n",
       "      <td>2220</td>\n",
       "    </tr>\n",
       "    <tr>\n",
       "      <td>Engineering (non-computer focused)</td>\n",
       "      <td>1339</td>\n",
       "    </tr>\n",
       "    <tr>\n",
       "      <td>Electrical Engineering</td>\n",
       "      <td>1303</td>\n",
       "    </tr>\n",
       "    <tr>\n",
       "      <td>Other</td>\n",
       "      <td>848</td>\n",
       "    </tr>\n",
       "    <tr>\n",
       "      <td>Physics</td>\n",
       "      <td>830</td>\n",
       "    </tr>\n",
       "    <tr>\n",
       "      <td>Information technology, networking, or system administration</td>\n",
       "      <td>693</td>\n",
       "    </tr>\n",
       "    <tr>\n",
       "      <td>A social science</td>\n",
       "      <td>531</td>\n",
       "    </tr>\n",
       "    <tr>\n",
       "      <td>Biology</td>\n",
       "      <td>274</td>\n",
       "    </tr>\n",
       "    <tr>\n",
       "      <td>Management information systems</td>\n",
       "      <td>237</td>\n",
       "    </tr>\n",
       "    <tr>\n",
       "      <td>A humanities discipline</td>\n",
       "      <td>198</td>\n",
       "    </tr>\n",
       "    <tr>\n",
       "      <td>A health science</td>\n",
       "      <td>152</td>\n",
       "    </tr>\n",
       "    <tr>\n",
       "      <td>Psychology</td>\n",
       "      <td>137</td>\n",
       "    </tr>\n",
       "    <tr>\n",
       "      <td>I never declared a major</td>\n",
       "      <td>65</td>\n",
       "    </tr>\n",
       "    <tr>\n",
       "      <td>Fine arts or performing arts</td>\n",
       "      <td>57</td>\n",
       "    </tr>\n",
       "  </tbody>\n",
       "</table>\n",
       "</div>"
      ],
      "text/plain": [
       "                                                    MajorSelect\n",
       "Computer Science                                           4397\n",
       "Mathematics or statistics                                  2220\n",
       "Engineering (non-computer focused)                         1339\n",
       "Electrical Engineering                                     1303\n",
       "Other                                                       848\n",
       "Physics                                                     830\n",
       "Information technology, networking, or system a...          693\n",
       "A social science                                            531\n",
       "Biology                                                     274\n",
       "Management information systems                              237\n",
       "A humanities discipline                                     198\n",
       "A health science                                            152\n",
       "Psychology                                                  137\n",
       "I never declared a major                                     65\n",
       "Fine arts or performing arts                                 57"
      ]
     },
     "execution_count": 28,
     "metadata": {},
     "output_type": "execute_result"
    }
   ],
   "source": [
    "pd.DataFrame(mcq['MajorSelect'].value_counts())"
   ]
  },
  {
   "cell_type": "markdown",
   "metadata": {},
   "source": [
    "# 전공"
   ]
  },
  {
   "cell_type": "code",
   "execution_count": 15,
   "metadata": {},
   "outputs": [
    {
     "data": {
      "text/html": [
       "<div>\n",
       "<style scoped>\n",
       "    .dataframe tbody tr th:only-of-type {\n",
       "        vertical-align: middle;\n",
       "    }\n",
       "\n",
       "    .dataframe tbody tr th {\n",
       "        vertical-align: top;\n",
       "    }\n",
       "\n",
       "    .dataframe thead th {\n",
       "        text-align: right;\n",
       "    }\n",
       "</style>\n",
       "<table border=\"1\" class=\"dataframe\">\n",
       "  <thead>\n",
       "    <tr style=\"text-align: right;\">\n",
       "      <th></th>\n",
       "      <th>응답 수</th>\n",
       "      <th>비율</th>\n",
       "    </tr>\n",
       "  </thead>\n",
       "  <tbody>\n",
       "    <tr>\n",
       "      <td>Computer Science</td>\n",
       "      <td>4397</td>\n",
       "      <td>0.331074</td>\n",
       "    </tr>\n",
       "    <tr>\n",
       "      <td>Mathematics or statistics</td>\n",
       "      <td>2220</td>\n",
       "      <td>0.167156</td>\n",
       "    </tr>\n",
       "    <tr>\n",
       "      <td>Engineering (non-computer focused)</td>\n",
       "      <td>1339</td>\n",
       "      <td>0.100821</td>\n",
       "    </tr>\n",
       "    <tr>\n",
       "      <td>Electrical Engineering</td>\n",
       "      <td>1303</td>\n",
       "      <td>0.098110</td>\n",
       "    </tr>\n",
       "    <tr>\n",
       "      <td>Other</td>\n",
       "      <td>848</td>\n",
       "      <td>0.063851</td>\n",
       "    </tr>\n",
       "    <tr>\n",
       "      <td>Physics</td>\n",
       "      <td>830</td>\n",
       "      <td>0.062495</td>\n",
       "    </tr>\n",
       "    <tr>\n",
       "      <td>Information technology, networking, or system administration</td>\n",
       "      <td>693</td>\n",
       "      <td>0.052180</td>\n",
       "    </tr>\n",
       "    <tr>\n",
       "      <td>A social science</td>\n",
       "      <td>531</td>\n",
       "      <td>0.039982</td>\n",
       "    </tr>\n",
       "    <tr>\n",
       "      <td>Biology</td>\n",
       "      <td>274</td>\n",
       "      <td>0.020631</td>\n",
       "    </tr>\n",
       "    <tr>\n",
       "      <td>Management information systems</td>\n",
       "      <td>237</td>\n",
       "      <td>0.017845</td>\n",
       "    </tr>\n",
       "    <tr>\n",
       "      <td>A humanities discipline</td>\n",
       "      <td>198</td>\n",
       "      <td>0.014909</td>\n",
       "    </tr>\n",
       "    <tr>\n",
       "      <td>A health science</td>\n",
       "      <td>152</td>\n",
       "      <td>0.011445</td>\n",
       "    </tr>\n",
       "    <tr>\n",
       "      <td>Psychology</td>\n",
       "      <td>137</td>\n",
       "      <td>0.010315</td>\n",
       "    </tr>\n",
       "    <tr>\n",
       "      <td>I never declared a major</td>\n",
       "      <td>65</td>\n",
       "      <td>0.004894</td>\n",
       "    </tr>\n",
       "    <tr>\n",
       "      <td>Fine arts or performing arts</td>\n",
       "      <td>57</td>\n",
       "      <td>0.004292</td>\n",
       "    </tr>\n",
       "  </tbody>\n",
       "</table>\n",
       "</div>"
      ],
      "text/plain": [
       "                                                    응답 수        비율\n",
       "Computer Science                                    4397  0.331074\n",
       "Mathematics or statistics                           2220  0.167156\n",
       "Engineering (non-computer focused)                  1339  0.100821\n",
       "Electrical Engineering                              1303  0.098110\n",
       "Other                                                848  0.063851\n",
       "Physics                                              830  0.062495\n",
       "Information technology, networking, or system a...   693  0.052180\n",
       "A social science                                     531  0.039982\n",
       "Biology                                              274  0.020631\n",
       "Management information systems                       237  0.017845\n",
       "A humanities discipline                              198  0.014909\n",
       "A health science                                     152  0.011445\n",
       "Psychology                                           137  0.010315\n",
       "I never declared a major                              65  0.004894\n",
       "Fine arts or performing arts                          57  0.004292"
      ]
     },
     "execution_count": 15,
     "metadata": {},
     "output_type": "execute_result"
    }
   ],
   "source": [
    "# value_counts 를 사용하면 그룹화 된 데이터의 카운트 값을 보여준다. \n",
    "# normalize=True 옵션을 사용하면, \n",
    "# 해당 데이터가 전체 데이터에서 어느정도의 비율을 차지하는지 알 수 있다.\n",
    "mcq_major_count = pd.DataFrame(mcq['MajorSelect'].value_counts())\n",
    "mcq_major_percent = pd.DataFrame(mcq['MajorSelect'].value_counts(normalize=True)) #이건 몰랐어\n",
    "mcq_major_df = mcq_major_count.merge(mcq_major_percent, left_index=True, right_index=True)\n",
    "mcq_major_df.columns = ['응답 수', '비율']\n",
    "mcq_major_df"
   ]
  },
  {
   "cell_type": "code",
   "execution_count": 32,
   "metadata": {},
   "outputs": [
    {
     "data": {
      "text/plain": [
       "<matplotlib.axes._subplots.AxesSubplot at 0x7f7e41464c50>"
      ]
     },
     "execution_count": 32,
     "metadata": {},
     "output_type": "execute_result"
    },
    {
     "data": {
      "image/png": "[encoded data removed]",
      "text/plain": [
       "<Figure size 432x576 with 1 Axes>"
      ]
     },
     "metadata": {
      "needs_background": "light"
     },
     "output_type": "display_data"
    }
   ],
   "source": [
    "# 재학중인 사람들의 전공 현황\n",
    "plt.figure(figsize=(6,8))\n",
    "sns.countplot(y='MajorSelect', data=mcq)"
   ]
  },
  {
   "cell_type": "markdown",
   "metadata": {},
   "source": [
    "# 취업 여부"
   ]
  },
  {
   "cell_type": "code",
   "execution_count": 19,
   "metadata": {},
   "outputs": [
    {
     "data": {
      "text/html": [
       "<div>\n",
       "<style scoped>\n",
       "    .dataframe tbody tr th:only-of-type {\n",
       "        vertical-align: middle;\n",
       "    }\n",
       "\n",
       "    .dataframe tbody tr th {\n",
       "        vertical-align: top;\n",
       "    }\n",
       "\n",
       "    .dataframe thead th {\n",
       "        text-align: right;\n",
       "    }\n",
       "</style>\n",
       "<table border=\"1\" class=\"dataframe\">\n",
       "  <thead>\n",
       "    <tr style=\"text-align: right;\">\n",
       "      <th></th>\n",
       "      <th>응답 수</th>\n",
       "      <th>비율</th>\n",
       "    </tr>\n",
       "  </thead>\n",
       "  <tbody>\n",
       "    <tr>\n",
       "      <td>Employed full-time</td>\n",
       "      <td>10897</td>\n",
       "      <td>0.651890</td>\n",
       "    </tr>\n",
       "    <tr>\n",
       "      <td>Not employed, but looking for work</td>\n",
       "      <td>2110</td>\n",
       "      <td>0.126226</td>\n",
       "    </tr>\n",
       "    <tr>\n",
       "      <td>Independent contractor, freelancer, or self-employed</td>\n",
       "      <td>1330</td>\n",
       "      <td>0.079564</td>\n",
       "    </tr>\n",
       "    <tr>\n",
       "      <td>Not employed, and not looking for work</td>\n",
       "      <td>924</td>\n",
       "      <td>0.055276</td>\n",
       "    </tr>\n",
       "    <tr>\n",
       "      <td>Employed part-time</td>\n",
       "      <td>917</td>\n",
       "      <td>0.054858</td>\n",
       "    </tr>\n",
       "    <tr>\n",
       "      <td>I prefer not to say</td>\n",
       "      <td>420</td>\n",
       "      <td>0.025126</td>\n",
       "    </tr>\n",
       "    <tr>\n",
       "      <td>Retired</td>\n",
       "      <td>118</td>\n",
       "      <td>0.007059</td>\n",
       "    </tr>\n",
       "  </tbody>\n",
       "</table>\n",
       "</div>"
      ],
      "text/plain": [
       "                                                     응답 수        비율\n",
       "Employed full-time                                  10897  0.651890\n",
       "Not employed, but looking for work                   2110  0.126226\n",
       "Independent contractor, freelancer, or self-emp...   1330  0.079564\n",
       "Not employed, and not looking for work                924  0.055276\n",
       "Employed part-time                                    917  0.054858\n",
       "I prefer not to say                                   420  0.025126\n",
       "Retired                                               118  0.007059"
      ]
     },
     "execution_count": 19,
     "metadata": {},
     "output_type": "execute_result"
    }
   ],
   "source": [
    "mcq_es_count = pd.DataFrame(\n",
    "    mcq['EmploymentStatus'].value_counts())\n",
    "mcq_es_percent = pd.DataFrame(\n",
    "    mcq['EmploymentStatus'].value_counts(normalize=True))\n",
    "mcq_es_df = mcq_es_count.merge(\n",
    "    mcq_es_percent, left_index=True, right_index=True)\n",
    "mcq_es_df.columns = ['응답 수', '비율']\n",
    "mcq_es_df"
   ]
  },
  {
   "cell_type": "code",
   "execution_count": 21,
   "metadata": {},
   "outputs": [
    {
     "data": {
      "text/plain": [
       "<matplotlib.axes._subplots.AxesSubplot at 0x7f222d7cd590>"
      ]
     },
     "execution_count": 21,
     "metadata": {},
     "output_type": "execute_result"
    },
    {
     "data": {
      "image/png": "[encoded data removed]",
      "text/plain": [
       "<Figure size 432x288 with 1 Axes>"
      ]
     },
     "metadata": {
      "needs_background": "light"
     },
     "output_type": "display_data"
    }
   ],
   "source": [
    "sns.countplot(y='EmploymentStatus', data=mcq)\n",
    "# 응답자의 대부분이 65%가 풀타임으로 일하고 있으며, 그 다음으로 구직자가 12%다."
   ]
  },
  {
   "cell_type": "markdown",
   "metadata": {},
   "source": [
    "# 프로그래밍 경험\n",
    "'Tenure'항목은 데이터사이언스 분야에서 코딩 경험이 얼마나 되는지에 대한 질문이다. 대부분이 5년 미만이며, 특히 1~2년의 경험을 가진 사람들이 많다."
   ]
  },
  {
   "cell_type": "code",
   "execution_count": 22,
   "metadata": {},
   "outputs": [
    {
     "data": {
      "text/plain": [
       "<matplotlib.axes._subplots.AxesSubplot at 0x7f222d6d9690>"
      ]
     },
     "execution_count": 22,
     "metadata": {},
     "output_type": "execute_result"
    },
    {
     "data": {
      "image/png": "[encoded data removed]",
      "text/plain": [
       "<Figure size 432x288 with 1 Axes>"
      ]
     },
     "metadata": {
      "needs_background": "light"
     },
     "output_type": "display_data"
    }
   ],
   "source": [
    "sns.countplot(y='Tenure', data=mcq)"
   ]
  },
  {
   "cell_type": "code",
   "execution_count": 34,
   "metadata": {},
   "outputs": [
    {
     "name": "stdout",
     "output_type": "stream",
     "text": [
      "The number of interviewees in Korea: 194\n"
     ]
    },
    {
     "data": {
      "image/png": "[encoded data removed]",
      "text/plain": [
       "<Figure size 432x288 with 1 Axes>"
      ]
     },
     "metadata": {
      "needs_background": "light"
     },
     "output_type": "display_data"
    }
   ],
   "source": [
    "korea = mcq.loc[(mcq['Country']=='South Korea')]\n",
    "\n",
    "print('The number of interviewees in Korea: ' + str(korea.shape[0]))\n",
    "\n",
    "sns.distplot(korea['Age'].dropna())\n",
    "plt.title('Korean')\n",
    "plt.show()"
   ]
  },
  {
   "cell_type": "code",
   "execution_count": 35,
   "metadata": {},
   "outputs": [
    {
     "data": {
      "text/html": [
       "<div>\n",
       "<style scoped>\n",
       "    .dataframe tbody tr th:only-of-type {\n",
       "        vertical-align: middle;\n",
       "    }\n",
       "\n",
       "    .dataframe tbody tr th {\n",
       "        vertical-align: top;\n",
       "    }\n",
       "\n",
       "    .dataframe thead th {\n",
       "        text-align: right;\n",
       "    }\n",
       "</style>\n",
       "<table border=\"1\" class=\"dataframe\">\n",
       "  <thead>\n",
       "    <tr style=\"text-align: right;\">\n",
       "      <th></th>\n",
       "      <th>GenderSelect</th>\n",
       "    </tr>\n",
       "  </thead>\n",
       "  <tbody>\n",
       "    <tr>\n",
       "      <td>Male</td>\n",
       "      <td>156</td>\n",
       "    </tr>\n",
       "    <tr>\n",
       "      <td>Female</td>\n",
       "      <td>37</td>\n",
       "    </tr>\n",
       "    <tr>\n",
       "      <td>A different identity</td>\n",
       "      <td>1</td>\n",
       "    </tr>\n",
       "  </tbody>\n",
       "</table>\n",
       "</div>"
      ],
      "text/plain": [
       "                      GenderSelect\n",
       "Male                           156\n",
       "Female                          37\n",
       "A different identity             1"
      ]
     },
     "execution_count": 35,
     "metadata": {},
     "output_type": "execute_result"
    }
   ],
   "source": [
    "pd.DataFrame(korea['GenderSelect'].value_counts())"
   ]
  },
  {
   "cell_type": "code",
   "execution_count": 36,
   "metadata": {},
   "outputs": [
    {
     "data": {
      "text/plain": [
       "Text(0.5, 1.0, 'Korean')"
      ]
     },
     "execution_count": 36,
     "metadata": {},
     "output_type": "execute_result"
    },
    {
     "data": {
      "image/png": "[encoded data removed]",
      "text/plain": [
       "<Figure size 432x288 with 1 Axes>"
      ]
     },
     "metadata": {
      "needs_background": "light"
     },
     "output_type": "display_data"
    }
   ],
   "source": [
    "sns.countplot(x='GenderSelect', data=korea)\n",
    "plt.title('Korean')"
   ]
  },
  {
   "cell_type": "code",
   "execution_count": 42,
   "metadata": {},
   "outputs": [
    {
     "ename": "IndexError",
     "evalue": "list index out of range",
     "output_type": "error",
     "traceback": [
      "\u001b[0;31m---------------------------------------------------------------------------\u001b[0m",
      "\u001b[0;31mIndexError\u001b[0m                                Traceback (most recent call last)",
      "\u001b[0;32m<ipython-input-42-c38fb03926ef>\u001b[0m in \u001b[0;36m<module>\u001b[0;34m\u001b[0m\n\u001b[1;32m      4\u001b[0m \u001b[0mfigure\u001b[0m\u001b[0;34m.\u001b[0m\u001b[0mset_size_inches\u001b[0m\u001b[0;34m(\u001b[0m\u001b[0;36m12\u001b[0m\u001b[0;34m,\u001b[0m\u001b[0;36m5\u001b[0m\u001b[0;34m)\u001b[0m\u001b[0;34m\u001b[0m\u001b[0;34m\u001b[0m\u001b[0m\n\u001b[1;32m      5\u001b[0m sns.distplot(korea['Age'].loc[korea['GenderSelect']=='Female'].dropna(), \n\u001b[0;32m----> 6\u001b[0;31m              norm_hist=False, color=sns.color_palette(\"Paired\")[100], ax=ax1)\n\u001b[0m\u001b[1;32m      7\u001b[0m \u001b[0mplt\u001b[0m\u001b[0;34m.\u001b[0m\u001b[0mtitle\u001b[0m\u001b[0;34m(\u001b[0m\u001b[0;34m'korean Female'\u001b[0m\u001b[0;34m)\u001b[0m\u001b[0;34m\u001b[0m\u001b[0;34m\u001b[0m\u001b[0m\n\u001b[1;32m      8\u001b[0m \u001b[0;34m\u001b[0m\u001b[0m\n",
      "\u001b[0;31mIndexError\u001b[0m: list index out of range"
     ]
    },
    {
     "data": {
      "image/png": "[encoded data removed]",
      "text/plain": [
       "<Figure size 864x360 with 2 Axes>"
      ]
     },
     "metadata": {
      "needs_background": "light"
     },
     "output_type": "display_data"
    }
   ],
   "source": [
    "# matplotlib에서 subplot을 사용하면 여러개 table을 그릴 수 있으\n",
    "figure, (ax1, ax2) = plt.subplots(ncols=2)\n",
    "\n",
    "figure.set_size_inches(12,5)\n",
    "sns.distplot(korea['Age'].loc[korea['GenderSelect']=='Female'].dropna(), \n",
    "             norm_hist=False, color=sns.color_palette(\"Paired\")[100], ax=ax1)\n",
    "plt.title('korean Female')\n",
    "\n",
    "sns.distplot(korea['Age'].loc[korea['GenderSelect']=='Male'].dropna(), \n",
    "             norm_hist=False, color=sns.color_palette(\"Paired\")[0], ax=ax2)\n",
    "plt.title('korean  Male')"
   ]
  },
  {
   "cell_type": "code",
   "execution_count": 54,
   "metadata": {},
   "outputs": [
    {
     "data": {
      "text/plain": [
       "Text(0.5, 1.0, 'korean  Male')"
      ]
     },
     "execution_count": 54,
     "metadata": {},
     "output_type": "execute_result"
    },
    {
     "data": {
      "image/png": "[encoded data removed]",
      "text/plain": [
       "<Figure size 864x360 with 4 Axes>"
      ]
     },
     "metadata": {
      "needs_background": "light"
     },
     "output_type": "display_data"
    }
   ],
   "source": [
    "figure, axs = plt.subplots(nrows=2, ncols=2)\n",
    "\n",
    "figure.set_size_inches(12,5)\n",
    "sns.distplot(korea['Age'].loc[korea['GenderSelect']=='Female'].dropna(), \n",
    "             norm_hist=False, color=sns.color_palette(\"Paired\")[1], ax=axs[0,0])\n",
    "plt.title('korean Female')\n",
    "\n",
    "sns.distplot(korea['Age'].loc[korea['GenderSelect']=='Male'].dropna(), \n",
    "             norm_hist=False, color=sns.color_palette(\"Paired\")[0], ax=axs[0,1])\n",
    "plt.title('korean  Male')"
   ]
  },
  {
   "cell_type": "code",
   "execution_count": 50,
   "metadata": {},
   "outputs": [
    {
     "data": {
      "text/plain": [
       "array([<matplotlib.axes._subplots.AxesSubplot object at 0x7f7e40adc450>,\n",
       "       <matplotlib.axes._subplots.AxesSubplot object at 0x7f7e40a9e1d0>],\n",
       "      dtype=object)"
      ]
     },
     "execution_count": 50,
     "metadata": {},
     "output_type": "execute_result"
    }
   ],
   "source": [
    "ax1"
   ]
  },
  {
   "cell_type": "code",
   "execution_count": 62,
   "metadata": {},
   "outputs": [
    {
     "data": {
      "image/png": "[encoded data removed]",
      "text/plain": [
       "<Figure size 432x288 with 1 Axes>"
      ]
     },
     "metadata": {
      "needs_background": "light"
     },
     "output_type": "display_data"
    }
   ],
   "source": [
    "sns.barplot(x=korea['EmploymentStatus'].unique(), y=korea['EmploymentStatus'].value_counts()/len(korea))\n",
    "plt.xticks(rotation=30, ha='right') #matplotlib에서 sticks를 사용하면 x를 기울여서 적을 수 있음 -\n",
    "plt.title('Employment status of the korean')\n",
    "plt.ylabel('')\n",
    "plt.show()"
   ]
  },
  {
   "cell_type": "code",
   "execution_count": 28,
   "metadata": {},
   "outputs": [
    {
     "data": {
      "image/png": "[encoded data removed]",
      "text/plain": [
       "<Figure size 432x288 with 1 Axes>"
      ]
     },
     "metadata": {
      "needs_background": "light"
     },
     "output_type": "display_data"
    }
   ],
   "source": [
    "korea['StudentStatus'] = korea['StudentStatus'].fillna('No')\n",
    "sns.countplot(x='StudentStatus', data=korea)\n",
    "plt.title('korean')\n",
    "plt.show()"
   ]
  },
  {
   "cell_type": "code",
   "execution_count": null,
   "metadata": {},
   "outputs": [],
   "source": []
  }
 ],
 "metadata": {
  "kernelspec": {
   "display_name": "Python 3",
   "language": "python",
   "name": "python3"
  },
  "language_info": {
   "codemirror_mode": {
    "name": "ipython",
    "version": 3
   },
   "file_extension": ".py",
   "mimetype": "text/x-python",
   "name": "python",
   "nbconvert_exporter": "python",
   "pygments_lexer": "ipython3",
   "version": "3.7.4"
  }
 },
 "nbformat": 4,
 "nbformat_minor": 2
}
